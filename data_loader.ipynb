{
 "metadata": {
  "language_info": {
   "codemirror_mode": {
    "name": "ipython",
    "version": 3
   },
   "file_extension": ".py",
   "mimetype": "text/x-python",
   "name": "python",
   "nbconvert_exporter": "python",
   "pygments_lexer": "ipython3",
   "version": 3
  },
  "orig_nbformat": 2,
  "kernelspec": {
   "name": "python_defaultSpec_1595597864347",
   "display_name": "Python 3.6.10 64-bit ('exercise': conda)"
  }
 },
 "nbformat": 4,
 "nbformat_minor": 2,
 "cells": [
  {
   "cell_type": "code",
   "execution_count": 1,
   "metadata": {},
   "outputs": [],
   "source": [
    "from torchtext import data, datasets\n",
    "\n",
    "BOS = 2\n",
    "EOS = 3\n",
    "\n",
    "class DataLoader():\n",
    "\n",
    "    def __init__(self, train_fn, valid_fn, batch_size = 64, \n",
    "                                            device = -1, \n",
    "                                            max_vocab = 99999999, \n",
    "                                            max_length = 15, \n",
    "                                            fix_length = None, \n",
    "                                            use_bos = True, \n",
    "                                            use_eos = True, \n",
    "                                            shuffle = True\n",
    "                                            ):\n",
    "        super(DataLoader, self).__init__()\n",
    "\n",
    "        self.text = data.Field(sequential = True, \n",
    "                                use_vocab = False, \n",
    "                                batch_first = True, \n",
    "                                include_lengths = True, \n",
    "                                fix_length = fix_length, \n",
    "                                init_token = '<BOS>' if use_bos else None, \n",
    "                                eos_token = '<EOS>' if use_eos else None\n",
    "                                )\n",
    "\n",
    "        train = LanguageModelDataset(path = train_fn, \n",
    "                                        fields = [('text', self.text)], \n",
    "                                        max_length = max_length\n",
    "                                        )\n",
    "        valid = LanguageModelDataset(path = valid_fn, \n",
    "                                        fields = [('text', self.text)], \n",
    "                                        max_length = max_length\n",
    "                                        )\n",
    "\n",
    "        self.train_iter = data.BucketIterator(train, \n",
    "                                                batch_size = batch_size, \n",
    "                                                device = device, \n",
    "                                                shuffle = shuffle, \n",
    "                                                sort_key=lambda x: -len(x.text), \n",
    "                                                sort_within_batch = True\n",
    "                                                )\n",
    "        self.valid_iter = data.BucketIterator(valid, \n",
    "                                                batch_size = batch_size, \n",
    "                                                device = device, \n",
    "                                                shuffle = False, \n",
    "                                                sort_key=lambda x: -len(x.text), \n",
    "                                                sort_within_batch = True\n",
    "                                                )\n",
    "\n",
    "        self.text.build_vocab(train, max_size = max_vocab)\n",
    "\n",
    "class LanguageModelDataset(data.Dataset):\n",
    "    \"\"\"Defines a dataset for machine translation.\"\"\"\n",
    "\n",
    "    def __init__(self, path, fields, max_length=None, **kwargs):\n",
    "        if not isinstance(fields[0], (tuple, list)):\n",
    "            fields = [('text', fields[0])]\n",
    "\n",
    "        examples = []\n",
    "        with open(path) as f:\n",
    "            for line in f:\n",
    "                line = line.strip()\n",
    "                if max_length and max_length < len(line.split()):\n",
    "                    continue\n",
    "                if line != '':\n",
    "                    examples.append(data.Example.fromlist(\n",
    "                        [line], fields))\n",
    "\n",
    "        super(LanguageModelDataset, self).__init__(examples, fields, **kwargs)"
   ]
  },
  {
   "cell_type": "code",
   "execution_count": null,
   "metadata": {},
   "outputs": [],
   "source": [
    "fields = [('text', fields[0])]\n",
    "\n",
    "examples = []\n",
    "with open(path) as f:\n",
    "    for line in f:\n",
    "        line = line.strip()\n",
    "        if max_length and max_length < len(line.split()):\n",
    "            continue\n",
    "        if line != '':\n",
    "            examples.append(data.Example.fromlist(\n",
    "                [line], fields))\n"
   ]
  },
  {
   "cell_type": "code",
   "execution_count": null,
   "metadata": {},
   "outputs": [],
   "source": [
    "\n",
    "if __name__ == '__main__':\n",
    "    import sys\n",
    "    loader = DataLoader(sys.argv[1], sys.argv[2])\n",
    "\n",
    "    for batch_index, batch in enumerate(loader.train_iter):\n",
    "        print(batch.text)\n",
    "\n",
    "        if batch_index > 1:\n",
    "            break"
   ]
  },
  {
   "cell_type": "code",
   "execution_count": 2,
   "metadata": {},
   "outputs": [],
   "source": [
    "import sys"
   ]
  },
  {
   "cell_type": "code",
   "execution_count": 5,
   "metadata": {},
   "outputs": [
    {
     "output_type": "execute_result",
     "data": {
      "text/plain": "['ipykernel_launcher',\n '--ip=127.0.0.1',\n '--stdin=9013',\n '--control=9011',\n '--hb=9010',\n '--Session.signature_scheme=\"hmac-sha256\"',\n '--Session.key=b\"e0a701a3-242a-44e5-8bc5-267822e7030b\"',\n '--shell=9012',\n '--transport=\"tcp\"',\n '--iopub=9014',\n '--f=C:\\\\Users\\\\dwkim\\\\AppData\\\\Local\\\\Temp\\\\tmp-22192ZVup6YcxrNM8.json']"
     },
     "metadata": {},
     "execution_count": 5
    }
   ],
   "source": [
    "sys.argv"
   ]
  },
  {
   "cell_type": "code",
   "execution_count": null,
   "metadata": {},
   "outputs": [],
   "source": [
    "    loader = DataLoader(sys.argv[1], sys.argv[2])\n",
    "\n",
    "    for batch_index, batch in enumerate(loader.train_iter):\n",
    "        print(batch.text)\n",
    "\n",
    "        if batch_index > 1:\n",
    "            break"
   ]
  },
  {
   "cell_type": "code",
   "execution_count": 10,
   "metadata": {},
   "outputs": [],
   "source": [
    "import glob\n",
    "import os"
   ]
  },
  {
   "cell_type": "code",
   "execution_count": 14,
   "metadata": {},
   "outputs": [],
   "source": [
    "path = 'data/bird/text/'\n",
    "text_list = glob.glob(os.path.join(path, '*/*.txt'))\n"
   ]
  },
  {
   "cell_type": "code",
   "execution_count": 16,
   "metadata": {},
   "outputs": [
    {
     "output_type": "execute_result",
     "data": {
      "text/plain": "11788"
     },
     "metadata": {},
     "execution_count": 16
    }
   ],
   "source": [
    "len(text_list)"
   ]
  },
  {
   "cell_type": "code",
   "execution_count": 17,
   "metadata": {},
   "outputs": [],
   "source": [
    "import tqdm"
   ]
  },
  {
   "cell_type": "code",
   "execution_count": null,
   "metadata": {},
   "outputs": [],
   "source": []
  },
  {
   "cell_type": "code",
   "execution_count": 18,
   "metadata": {
    "tags": []
   },
   "outputs": [
    {
     "output_type": "stream",
     "name": "stderr",
     "text": "100%|██████████| 11788/11788 [00:02<00:00, 4602.62it/s]\n"
    }
   ],
   "source": [
    "text_list = glob.glob(os.path.join(path, '*/*.txt'))\n",
    "\n",
    "examples = []\n",
    "\n",
    "for t in tqdm.tqdm(text_list):\n",
    "    with open(t) as f:\n",
    "        for line in f:\n",
    "            line = line.strip()\n",
    "            # if max_length and max_length < len(line.split()):\n",
    "            #     continue\n",
    "            if line != '':\n",
    "                examples.append(line)\n",
    "                # examples.append(data.Example.fromlist(\n",
    "                #     [line], fields))"
   ]
  },
  {
   "cell_type": "code",
   "execution_count": 22,
   "metadata": {},
   "outputs": [
    {
     "output_type": "execute_result",
     "data": {
      "text/plain": "e white and the wings are dark grey.',\n 'a large bird with white crown and black eyebrow having large bill and black secondaries and primaries',\n 'this bird is black and white in color, with a orange beak and a black eye ring.',\n 'this is a white bird with an orange bill and black on the wingbars.',\n 'this bird has white body, black wing, and long hooked bill.',\n 'this bird has a white head, neck, belly, vent and tarsus, with black and grey feathers covering the rest of its body.',\n 'this bird has wings that are grey and has a white belly',\n 'this bird has a large white body with black wings and long beak',\n 'this bird has wings that are black and has a white belly',\n 'this bird has wings that are grey and has a white belly',\n 'the medium sized bird has black wings and tails, white head and belly, and a yellow downward curved beak.',\n 'this is a medium sized white bird with dark gray wings and tail and a yellow beak that curves down at the tip.',\n 'the bird has a curved yellow bill, small black eyering and small feet.',\n 'a bird with a white and orange bill and dark colored wings.',\n 'this large bird has a white body, black wing, and a long hooked bill.',\n 'this bird is white with black and has a long, pointy beak.',\n 'this bird has a white head, throat belly and breast, and black coverts.',\n 'this particular bird has a belly that is white and gray',\n 'a large white bird with black wings, a short tail, white legs, and a long beak with a downward curve.',\n 'this bird is white and black in color, and has a orange beak.',\n 'large winged water bird with a white body and yellow curved bill.',\n 'all white medium sized bird bird with yellow beak',\n 'the white bird is large and has black eyes and an orage hooked nose and orange feet.',\n 'a larger sized bird that is mostly white with dark grey wings',\n 'this bird is white in color with a curved orange beak, and white eye rings.',\n 'a large bird containing an all white body, red feet, and grey and white secondaries and coverts.',\n 'this bird is white in color, with a yellow beak.',\n 'this large bird has a very long wingspan and an orange beak.',\n 'this bird has a white crown as well as a yellow bill',\n 'this bird has a short yellow beak, an all white head and belly, and wings that are white underneath and grey on top.',\n 'this bird has a large wingspan and a beak that is curved downward.',\n 'bird has gray body feathers, white breast feather, and long beak',\n 'a small bird with a white head and nape, with white and brown covering the rest of its body, and orange tarsus and feet.',\n 'the bird has large black wings, a white body, and a long orange beak.',\n 'a large bird with a white belly and black wings.',\n 'this bird is black with white and has a very short beak.',\n 'this bird is white and black in color, with a large curved beak.',\n 'a large bird with a white belly and breast and black wings.',\n 'it is a large white breasted bird with black tipped wings and orange feet and an orange bill.',\n 'this bird is black with white and has a long, pointy beak.',\n 'this bird has a white belly and breast with brown, white, and black primary and secondaries.',\n 'large white and brown water bird with a white head and orange beak.',\n 'this bird has a white head and body, brown wings and a somewhat long, pink beak.',\n 'the bird has a white belly and head with brown striped wings and tail.',\n 'this bird has a pink beak, white body and brown wings.',\n 'this bird has black wings and tail while the remainder of it is white, with a pointy bill .',\n 'a large bird with an orange bill, white crown, and black eyering.',\n 'this bird is brown with white and has a long, pointy beak.',\n 'this bird has a white crown as well as a long orange bill',\n 'this small bird has white head, orange bill, and black wings.',\n 'the impressive wingspan on this bird is brown and the body is white. the bill is long.',\n 'the bird has a white head and rump, brown wings and back, and a brown bill.',\n 'the bird has a white crown and a small black bill and large bill.',\n 'a big bird with black and white feathers and a black beak.',\n 'a medium sized bird that has tones of white and dark brown with a long bill',\n 'a bird with brown wings and a white tail and head.',\n \"the wingspan of this bird is longer than the bird's white body and long bill put together.\",\n 'a large bird that has a very long wingspan with a white head.',\n 'this bird has wings that are black and has a white belly',\n 'this bird has wings that are black and has a long bill',\n 'this bill has a very distinctive billwith almost a clamp look at the tip. it starts orange and ends black. the cheek patch and eyebrow are gray and the neck and crown are white.',\n 'this appears to be a big bird, with a long neck, and long beak.',\n 'the bird has a grey throat with grey and yellow colored base of bill but black tip of the bill.',\n 'this bird has a white body, black wing, and long hooked bill.',\n 'this large bird has a very soft appearance and has a long, down-pointed sharp beak.',\n 'this bird is white with grey and has a long, pointy beak.',\n 'this bird has wings that are white and has an orange bill',\n 'a bird with a large bill, white crown, and large black eyes.',\n 'this bird is white in color, with a gray beak.',\n 'this grey and white bird has long sharp orange bill.',\n 'this bird is colored brown on its wings and back while its head and rump are all white.',\n 'a bird diving with a yellow beak, brown wings, and a white head and neck.',\n 'the bird with big black wings, white crown and head, and brown breast',\n 'this is a large brown bird with a white rump and a white head.',\n 'this bird is white and brown in color with a long beak, and white eye rings.',\n 'this bird is brown with white and has a long, pointy beak.',\n 'this bird has wings that are brown and has a long yellow bill',\n 'this bird has wings that are brown and has a white nape',\n 'this bird has wings that are brown and has a white belly',\n 'this bird has a brown back, wings and white crown',\n 'a bird with a white belly, and black and white wingbars with a black outer retrices',\n 'a large bird with a white belly, black and white wings with a long beak.',\n 'this bird has a white body, black eyes, light gray beak and feet, white and black coloring on the underside of the wings and black inner and outer rectrices.',\n 'this bird has really big wings and has a white belly.',\n 'this flying bird is white with a long curved white bill',\n 'this particular bird has long black wings and a white belly',\n 'this bird has wings that are black and white and has a long bill',\n 'this bird is black with white and has a long, pointy beak.',\n 'this bird has wings that are black and has a white belly',\n 'this bird is white and black in color, and has a light colored beak.',\n 'a large water bird with a white body and wide brown wings, with a beak that hooks downward.',\n 'a white swimming bird with a wide black wing span and an long orange beak.',\n 'this is a white bird with dark grey wings and an orange beak.',\n 'this bird is white and black in color with a curved long beak, and black eye rings.',\n 'this large bird has a large orange bill, a white neck, belly, & breast and black wings.',\n 'this particular bird has a white body with dark gray wings and a long tan bill',\n 'this bird is white and black in color, with a long orange beak.',\n 'this bird has wings that are black and has a white belly',\n 'this bird has a white crown, brown primaries, and a white belly.',\n 'this large bird has a white body, gray wings, and a large orange beak.',\n 'this is a black and white bird with a gray bill and orange in the outer rectrices',\n 'a large, gray bird with black wings, orange feet, and a yellow bill.',\n 'this bird has a gray belly and breast with a long hooked bill.',\n 'this is a white bird with black and white wings and a long and pointy black beak.',\n 'this bird has a white overall body color with lots of streaks and patches of black on its wings.',\n 'this is a white and gray bird that has webbed feet and a beak that turns down at the tip.',\n 'this bird has orange webbed feet, a black tail, grey belly and a long yellow bill with a hook at the end.',\n 'this bird has wings that are black and white and has a yellow bill',\n 'this large bird has a white throat and belly and broad wings which are white with black streaks.',\n 'this bird has a white breast, with a orange bill.',\n 'a white bird with black feathers and a light beak.',\n 'bird has white body feathers, white breast feather, and very long beak',\n 'a larger sized white bird that has dark brown wings and a large points bill',\n 'this bird is white with brown on it and has a long, pointy beak.',\n 'this bird has a brown back and wings, with a white body and tarsi, and a long, thin, but slightly bulbous pink bill.',\n 'large bird with a large long orange bill, white body and dark brown wings.',\n 'this bird has wings that are black and has a big bill',\n 'the bird has a white throat, brown wingbar and a large curved bill.',\n 'this bird a a big bill white head feathers with black circle around the eyes and white body feathers and black wings.',\n 'this bird is white with black and has a long, pointy beak.',\n 'this bird has a mostly white body with black around the wings and a tan bill.',\n 'this bird in flight has a white head, breast, side and flank and very dark wingbars.',\n 'a large white bird with black wings and rectricles and a yellow beak.',\n 'this bird is white with black wings and has a long, pointy beak.',\n 'a big white bird with long black and white wings and a white beak.',\n 'a white bird with black feathers on its wing with a long bill and black eyes.',\n \"this bird's tarsi and feet have folded into the contour of it's white body, which contrasts to its long, narrow, angled black wings.\",\n 'this bird has wings that are black and has a white belly',\n 'this bird has a pale orange colored bill and a white belly.',\n 'this large bird has a white body and large wingspan with a black eye ring and a long bill.',\n 'this peculiar looking bird has striking feathers that look more like fur with white tips and a very long, hooked beak.',\n 'a bird that looks like it is partly feathers and partly fur and is grey witha large beak.',\n 'this fuzzy bird has furry bits from its crown to its back and belly with intermingled white hairs that give a lightning cloud effect, and a long grey bill.',\n 'this bird is dark gray with some beige intermixed in the crown and wings.',\n 'this is a brown bird with a white eyering and a long downward pointing beak.',\n 'a large bird with a long bill and a white cheek patch',\n 'this bird has a brown crown as well as a long grey bill',\n 'this bird has white eye ring, grey and brown secondaries and a white flank.',\n 'this bird has long black bill that is curved downward at the end.',\n 'this bird is gray and brown in color, and has a large curved beak.',\n 'this bird has a white belly and head, and a brown back and long brown wings.',\n 'this bird is white and brown in color with a curved orange beak and white eye ring.',\n 'this is a medium sized bird with a long orange bill, a white crown and nape, and a yellow to white breast and belly. the coverts are brown and the primaries are white and brown.',\n 'this is a white bird with brown wings and an orange beak.',\n 'this bird is white and brown in color with a long curved beak, and black eye rings.',\n 'a large grey bird, with a white underside, black eyerings, and a mediums sized yellow bill.',\n 'this bird is brown with white and has a long, pointy beak.',\n 'this bird has wings that are brown and has a white body',\n 'this bird has wings that are brown and has a large yellow bill',\n 'this bird has wings that are brown and has a yellow bill',\n 'the body of this bird is white but its wings and rump are dark brown.',\n \"this bird as a long white neck and beak, it's cheek is powdered with grey with it's wings and tail black with a light brown tip on each feather.\",\n 'a larger water bird with white body, dark brown wings, and orange bill.',\n 'this bird has a white body, black and brown wing, and a long hooked bill.',\n 'medium to large white brown and black bird with long orange and black beak',\n 'this particular bird has a white belly and sides and dark brown secondaries',\n 'this bird has a belly that is white with brown secondaries',\n 'this bird has a long, hooked bill that is mostly orange with black at the tip, and while primarily white in color, it has brown wings.',\n 'this bird has a white crown and breast but dark brown wings and an orange bill.',\n 'a large white water bird with dark brown wings and long, hooked orange bill.',\n 'this is a large, wide wing spanned, water fowl with a white breast, dark brown feathers and flecked white secondaries, the bill is light orange colored and the eye is dark.',\n 'this large bird has a curved bill, black wings, and a white chest and belly.',\n 'this is a white bird with black wings and a large orange beak.',\n 'this is a white bird and a brown wingbars with a brown bill',\n 'large sized bird with a long beak, white and black colors and a wide wing span',\n 'this is a large bird, with a white belly, and very long thin wings.',\n 'the breast of the bird is white, and the eyes of the bird are black.',\n 'this is a long-winged bird with a white head, crown, and belly, with a brown back and wings.',\n 'this particular bird has a belly that is white with long black wings',\n 'this is a large mostly white bodied bird with black and white wings and a large bill.',\n 'the large white bird has a long bill and long throat.',\n 'this is a white bird with grey wings and an orange beak.',\n 'a white bird with dark gray wings, gray cheek patches, black eyes and a light yellow bill.',\n 'the birds has a white overall body color with a black set of wings and light orange bill.',\n 'this is a white bird with a brown wing and an orange beak.',\n 'this is a white bird with brown wings and a light orange beak that is curved down.',\n 'this bird has wings that are black and has a white belly',\n 'this bird is white with grey and has a long, pointy beak.',\n 'this bird has wings that are black and has a white belly and long neck',\n 'this bird has a really long orange bill that curves downward, with a white breast.',\n 'the head and rump of the bird is white while the wings and body of the bird are dark brown.',\n \"the bird has a white head, side and belly but it's wing is in black and brown shades.\",\n 'the bird has a white crown and a yellow bill that is long.',\n 'this large bird has a white body, black wing and tail, and long hooked bill.',\n 'bird with yellow beak, gray feet, white crown and nape, and black wings, inner and outer rectrices',\n 'this bird has a white crown along with black, brown, and gray wingbars.',\n 'this bird has wings that are black and has a white belly',\n 'a black and white bird with a large wing span and yellow beak.',\n 'the bird has a head that is white in color and a back that is brown in color.',\n 'this bird has a white head, with a long orange bill.',\n 'the bird is larger with white and black markings and a long curved beak.',\n 'this bird has a white body with black wings and a large tan-white bill with a black hooked tip.',\n 'this bird is white with black on its back and has a long, pointy beak.',\n 'bird with long and fat beak that is curved at tip, white crown, nape, breast, throat, belly and abdomen',\n 'a medium bird with a white head, neck, and body and a black rump and wings.',\n 'a medium sized bird with an all white head and breast, its wings are black, and the bill however is medium sized with a curven tip.',\n 'this bird has wings that are black and has a white belly',\n 'this is a large bird with black eyes and a white body and legs.',\n 'this bird is white and brown in color, and has a curved and light colored beak.',\n 'all white breast color, long curved bill, and bluish hue tarsus',\n 'the bird has a white breast and nape with black secondaries, and it has a tan bill.',\n 'an aquatic bird with longer, hooked at end bill and white head, neck, and breast, with gray back and wings.',\n 'birds head stomach is white and the birds back and wings are grey,beek is beige flat and long.',\n 'this large bird has a white body, grey wing, and long hooked yellow bill.',\n 'this bird is white and grey in color with a curved beak, and black eye rings.',\n 'this bird has wings that are grey and has a white belly',\n 'this bird has wings that are grey and has a white belly',\n 'this is a large bird with a beak that curves downward, and a long white neck and breast.',\n 'this bird has wings that are grey and has a white belly',\n 'this bird has a white crown, grey primaries, and a white belly.',\n 'a larger bird with a long beak that curves downwards at the end, and a white head with smokey eyes.',\n 'a large bird with a hook like bill and distinct black cheek patch and white crown and the bird has a long neck',\n 'the bird has a blue body and wings with a yellow striped beak.',\n 'this bird has a white crown, a long bill, and a white breast',\n 'this is a white bird with a grey cheek patch and a black eyebrow.',\n 'this bird is white with black and has a long, pointy beak.',\n 'this bird has a white head and a big orange bill',\n 'a white bird with a long, multi-colored bill, a white belly and neck, and a black cheek patch.',\n 'this bird has a long beak with curves down at the end, a black eye ring and a white body.',\n 'a large white bird, with a long bill that is curved downward.',\n 'a large bird with white head and brown wing bars and a long narrow yellow beak that is hooked at the end.',\n 'a white albatross with brown wings and a peach colored bony beak.',\n 'this bird has a long orange and black beak, with black spots around its eyes and a brown back, with a basic white head.',\n 'this bird has a white breast and a really long bill.',\n 'a large light blue bird, with dark eyes and a yellow long pointed beak',\n 'this bird is all white and has a long, pointy beak.',\n 'this is a large white bird with a brown colored back and a large light orange bill',\n 'this bird has wings that are brown and has an orange bill',\n 'this bird has a long tan bill with a white crown and white throat.',\n 'this bird has wings that are brown and has a long neck',\n 'the bird has a white head and rump with grey body and wings.',\n 'this bird is white and black in color with a long curved beak and black eye rings.',\n 'this bird is medium sized and has long, pointy wings with black and white primaries. it is mostly dark grey in color with a white nape and crown. the inner and outer rectrices are black.',\n 'this gray winged bird has a white head and rump and black retrices.',\n 'this bird has a black tipped bill with a white crown and greyish black wingbars.',\n 'this bird has a white head, nape, neck, throat, rump, black inner and outer retrices, and grey covering its wings.',\n 'this bird has brown, grey and black secondaries,a white crown and rump and black inner and outer retrices.',\n 'this large bird has with a large wing span and a white colored head.',\n 'this bird has wings that are grey and has a white belly',\n 'this bird has wings that are black and has a white belly',\n 'white and black bird with long downward curved beak and wide wingspan.',\n \"this bird has a white body and black wings, this bird's bill is long and slightly curved downward.\",\n 'a medium sized flying bird with long curved wing feathers, a white under belly, and a flat bill.',\n 'a large bird with a white body and face and long black wings.',\n 'this black and white bird has a very long wingspan, longer than its body, as well as a very long beak.',\n 'this bird has a long bill with a curved end and a white belly.',\n 'a larger bird with a white belly and breast, a longer wingspan, and a long, narrow bill.',\n 'this bird has wings that are grey and has a yellow bill',\n 'this bird has long black and white wings, with a very long bill.',\n 'this bird has wings that are black and has a white belly',\n ...]"
     },
     "metadata": {},
     "execution_count": 22
    }
   ],
   "source": [
    "examples"
   ]
  },
  {
   "cell_type": "code",
   "execution_count": 1,
   "metadata": {},
   "outputs": [],
   "source": [
    "import os\n",
    "import pickle\n",
    "import random\n",
    "import numpy as np\n",
    "import pandas as pd\n",
    "from collections import defaultdict\n",
    "import torch\n",
    "import torch.utils.data as data\n",
    "from nltk.tokenize import RegexpTokenizer"
   ]
  },
  {
   "cell_type": "code",
   "execution_count": 54,
   "metadata": {},
   "outputs": [],
   "source": [
    "class Text_Dataset(data.Dataset):\n",
    "    def __init__(self, data_dir, split, words_num, print_shape=False):\n",
    "        self.words_num = words_num\n",
    "        self.data_dir = data_dir\n",
    "        self.split = split\n",
    "        # self.device = device\n",
    "\n",
    "        self.filenames, self.captions, self.idx2word, self.word2idx, self.n_word \\\n",
    "            = self.load_text_data(data_dir, split)\n",
    "\n",
    "    def load_text_data(self, data_dir, split):\n",
    "        filepath = os.path.join(data_dir, 'captions.pickle')\n",
    "        train_names = self.load_filenames(data_dir, 'train')\n",
    "        if not data_dir.find('coco'):\n",
    "            test_names = self.load_filenames(data_dir, 'test')\n",
    "        else:\n",
    "            test_names = self.load_filenames(data_dir, 'val')\n",
    "\n",
    "        if not os.path.isfile(filepath):\n",
    "            train_captions = self.load_captions(data_dir, train_names)\n",
    "            test_captions = self.load_captions(data_dir, test_names)\n",
    "\n",
    "            train_captions, test_captions, idx2word, word2idx, n_words = self.build_dictionary(train_captions, test_captions)\n",
    "            with open(filepath, 'wb') as f:\n",
    "                pickle.dump([train_captions, test_captions,\n",
    "                             idx2word, word2idx], f, protocol=2)\n",
    "                print('Save to: ', filepath)\n",
    "\n",
    "\n",
    "        else:\n",
    "            with open(filepath, 'rb') as f:\n",
    "                x = pickle.load(f)\n",
    "                train_captions, test_captions = x[0], x[1]\n",
    "                idx2word, word2idx = x[2], x[3]\n",
    "                del x\n",
    "                n_words = len(idx2word)\n",
    "                print('Load from: ', filepath)\n",
    "\n",
    "        if split == 'train':\n",
    "            filenames = train_names\n",
    "            captions = train_captions\n",
    "        \n",
    "        else:\n",
    "            filenames = test_names\n",
    "            captions = test_captions\n",
    "        \n",
    "        return filenames, captions, idx2word, word2idx, n_words\n",
    "\n",
    "    def build_dictionary(self, train_captions, test_captions):\n",
    "        word_counts = defaultdict(float)\n",
    "        captions = train_captions + test_captions\n",
    "        for sent in captions:\n",
    "            for word in sent:\n",
    "                word_counts[word] += 1\n",
    "\n",
    "        vocab = [w for w in word_counts if word_counts[w] >= 0]\n",
    "\n",
    "        idx2word = {}\n",
    "        idx2word[0] = '<end>'\n",
    "\n",
    "        word2idx = {}\n",
    "        word2idx['<end>'] = 0\n",
    "        ix = 1\n",
    "        for w in vocab:\n",
    "            word2idx[w] = ix\n",
    "            idx2word[ix] = w\n",
    "            ix += 1\n",
    "\n",
    "        # Add Begin of Sentence token\n",
    "        # Remove this token when adapt this weights to the main model\n",
    "        # word2idx['<bos>'] = ix\n",
    "        # idx2word[ix] = '<bos>'\n",
    "\n",
    "        train_captions_new = []\n",
    "        for t in train_captions:\n",
    "            rev = []\n",
    "            for w in t:\n",
    "                if w in word2idx:\n",
    "                    rev.append(word2idx[w])\n",
    "            rev.append(0)\n",
    "            train_captions_new.append(rev)\n",
    "\n",
    "        test_captions_new = []\n",
    "        for t in test_captions:\n",
    "            rev = []\n",
    "            for w in t:\n",
    "                if w in word2idx:\n",
    "                    rev.append(word2idx[w])\n",
    "            rev.append(0)\n",
    "            test_captions_new.append(rev)\n",
    "\n",
    "        return train_captions_new, test_captions_new, idx2word, word2idx, len(idx2word)\n",
    "\n",
    "\n",
    "    def load_captions(self, data_dir, filenames):\n",
    "        all_captions = []\n",
    "        for i in range(len(filenames)):\n",
    "            cap_path = '%s/text/%s.txt' % (data_dir, filenames[i])\n",
    "            print(\"cap_path\", cap_path)\n",
    "\n",
    "            with open(cap_path, \"r\", encoding='utf-8') as f:\n",
    "                captions = f.read().split('\\n')\n",
    "                cnt = 0\n",
    "                for cap in captions:\n",
    "                    if len(cap) == 0:\n",
    "                        continue\n",
    "                    cap = cap.replace(\"\\ufffd\\ufffd\", \" \")\n",
    "                    # picks out sequences of alphanumeric characters as tokens\n",
    "                    # and drops everything else\n",
    "                    tokenizer = RegexpTokenizer(r'\\w+')\n",
    "                    tokens = tokenizer.tokenize(cap.lower())\n",
    "                    # print('tokens', tokens)\n",
    "                    if len(tokens) == 0:\n",
    "                        print('cap', cap)\n",
    "                        continue\n",
    "\n",
    "                    tokens_new = []\n",
    "                    for t in tokens:\n",
    "                        t = t.encode('ascii', 'ignore').decode('ascii')\n",
    "                        if len(t) > 0:\n",
    "                            tokens_new.append(t)\n",
    "                    all_captions.append(tokens_new)\n",
    "                    cnt += 1\n",
    "            print('cap cnt', cnt)\n",
    "\n",
    "        return all_captions\n",
    "\n",
    "    def load_filenames(self, data_dir, split):\n",
    "        filepath = '%s/filenames/%s/filenames.pickle' % (data_dir, split)\n",
    "\n",
    "        if os.path.isfile(filepath):\n",
    "            with open(filepath, 'rb') as f:\n",
    "                filenames = pickle.load(f)\n",
    "            print('Load filenames from: %s (%d)' % (filepath, len(filenames)))\n",
    "        else:\n",
    "            filenames = []\n",
    "        \n",
    "        return filenames\n",
    "\n",
    "    def get_caption(self, sent_idx):\n",
    "        sent_caption = np.asarray(self.captions[sent_idx]).astype('int64')\n",
    "        \n",
    "        # Ignore this warning\n",
    "        # if (sent_caption == 0).sum() > 0:\n",
    "        #     print('ERROR: do not need END (0) token', sent_caption)\n",
    "\n",
    "        num_words = len(sent_caption)\n",
    "        # pad with 0s (i.e., '<end>')\n",
    "        x = np.zeros((self.words_num), dtype='int64')\n",
    "        # x = np.zeros((self.words_num, 1), dtype='int64')\n",
    "\n",
    "        x_len = num_words\n",
    "        if num_words <= self.words_num:\n",
    "            x[:num_words] = sent_caption\n",
    "\n",
    "        else: # For LM pretraining \n",
    "            x[:] = sent_caption[:self.words_num]\n",
    "            x_len = self.words_num\n",
    "\n",
    "        return x, x_len\n",
    " \n",
    "    def __len__(self):\n",
    "        return len(self.captions)\n",
    "\n",
    "    def __getitem__(self, idx):\n",
    "        data_dir = self.data_dir\n",
    "        caps, cap_len = self.get_caption(idx)\n",
    "        return caps, cap_len"
   ]
  },
  {
   "cell_type": "code",
   "execution_count": 55,
   "metadata": {
    "tags": []
   },
   "outputs": [
    {
     "output_type": "stream",
     "name": "stdout",
     "text": "Load filenames from: data/bird//filenames/train/filenames.pickle (8855)\nLoad filenames from: data/bird//filenames/val/filenames.pickle (2933)\nLoad from:  data/bird/captions.pickle\n"
    }
   ],
   "source": [
    "hr_dataset = Text_Dataset(data_dir='data/bird/',\n",
    "                              split='train',\n",
    "                              words_num=15,\n",
    "                              print_shape=False)\n",
    "# (self, data_dir, split, words_num, print_shape=False)"
   ]
  },
  {
   "cell_type": "code",
   "execution_count": null,
   "metadata": {},
   "outputs": [],
   "source": []
  },
  {
   "cell_type": "code",
   "execution_count": 56,
   "metadata": {},
   "outputs": [
    {
     "output_type": "execute_result",
     "data": {
      "text/plain": "[1, 2, 3, 1, 4, 5, 6, 7, 8, 1, 5, 9, 10, 0]"
     },
     "metadata": {},
     "execution_count": 56
    }
   ],
   "source": [
    "hr_dataset.captions[0]"
   ]
  },
  {
   "cell_type": "code",
   "execution_count": 51,
   "metadata": {},
   "outputs": [],
   "source": [
    "hr_dataloader = torch.utils.data.DataLoader(dataset=hr_dataset,\n",
    "                                            batch_size=32,\n",
    "                                            drop_last=True,\n",
    "                                            shuffle=True,\n",
    "                                            num_workers=0)"
   ]
  },
  {
   "cell_type": "code",
   "execution_count": 72,
   "metadata": {},
   "outputs": [],
   "source": [
    "def prepare_data(device, data):\n",
    "    caps, cap_len = data\n",
    "    sorted_cap_len, sorted_cap_index = torch.sort(cap_len, 0, True)\n",
    "\n",
    "    caps = caps[sorted_cap_index].squeeze()\n",
    "\n",
    "    if device == torch.device('cuda'):\n",
    "        caps = caps.cuda()\n",
    "        sorted_cap_len = sorted_cap_len.cuda()\n",
    "    else:\n",
    "        sorted_cap_len = sorted_cap_len\n",
    "        pass\n",
    "\n",
    "    return caps, sorted_cap_len"
   ]
  },
  {
   "cell_type": "code",
   "execution_count": 76,
   "metadata": {
    "tags": []
   },
   "outputs": [
    {
     "output_type": "stream",
     "name": "stdout",
     "text": "torch.Size([32, 15])\ntensor([15, 13, 15, 12, 15, 15, 15, 14, 15, 14, 15, 13, 11, 11, 14, 13, 15, 15,\n        15, 15, 12, 15, 15, 15, 15, 13, 15, 15, 15, 15, 12, 15])\ntorch.Size([32, 15])\ntensor([15, 15, 15, 15, 15, 15, 15, 15, 15, 15, 15, 15, 15, 15, 15, 15, 15, 15,\n        15, 15, 14, 14, 14, 13, 13, 13, 13, 12, 12, 12, 11, 11])\n"
    }
   ],
   "source": [
    "for idx, batch in enumerate(hr_dataloader):\n",
    "    print(batch[0].shape)\n",
    "    print(batch[1])\n",
    "    batch = prepare_data('cpu', batch)\n",
    "    print(batch[0].shape)\n",
    "    print(batch[1])\n",
    "    break"
   ]
  },
  {
   "cell_type": "code",
   "execution_count": 33,
   "metadata": {},
   "outputs": [],
   "source": [
    "import torchtext \n",
    "train_iter = torchtext.data.BucketIterator(hr_dataset, \n",
    "                                                batch_size = 32, \n",
    "                                                device = 'cpu', \n",
    "                                                shuffle = True, \n",
    "                                                sort_key=lambda x: -x[1], \n",
    "                                                sort_within_batch = True\n",
    "                                                )"
   ]
  },
  {
   "cell_type": "code",
   "execution_count": 34,
   "metadata": {
    "tags": []
   },
   "outputs": [
    {
     "output_type": "error",
     "ename": "AttributeError",
     "evalue": "'Text_Dataset' object has no attribute 'fields'",
     "traceback": [
      "\u001b[1;31m---------------------------------------------------------------------------\u001b[0m",
      "\u001b[1;31mAttributeError\u001b[0m                            Traceback (most recent call last)",
      "\u001b[1;32m<ipython-input-34-9f5f5f5b46a3>\u001b[0m in \u001b[0;36m<module>\u001b[1;34m\u001b[0m\n\u001b[1;32m----> 1\u001b[1;33m \u001b[1;32mfor\u001b[0m \u001b[0mbatch_index\u001b[0m\u001b[1;33m,\u001b[0m \u001b[0mbatch\u001b[0m \u001b[1;32min\u001b[0m \u001b[0menumerate\u001b[0m\u001b[1;33m(\u001b[0m\u001b[0mtrain_iter\u001b[0m\u001b[1;33m)\u001b[0m\u001b[1;33m:\u001b[0m\u001b[1;33m\u001b[0m\u001b[1;33m\u001b[0m\u001b[0m\n\u001b[0m\u001b[0;32m      2\u001b[0m     \u001b[0mprint\u001b[0m\u001b[1;33m(\u001b[0m\u001b[0mbatch\u001b[0m\u001b[1;33m)\u001b[0m\u001b[1;33m\u001b[0m\u001b[1;33m\u001b[0m\u001b[0m\n\u001b[0;32m      3\u001b[0m     \u001b[1;32mif\u001b[0m \u001b[0mbatch_index\u001b[0m \u001b[1;33m>\u001b[0m \u001b[1;36m1\u001b[0m\u001b[1;33m:\u001b[0m\u001b[1;33m\u001b[0m\u001b[1;33m\u001b[0m\u001b[0m\n\u001b[0;32m      4\u001b[0m         \u001b[1;32mbreak\u001b[0m\u001b[1;33m\u001b[0m\u001b[1;33m\u001b[0m\u001b[0m\n",
      "\u001b[1;32m~\\Anaconda3\\envs\\sataml\\lib\\site-packages\\torchtext\\data\\iterator.py\u001b[0m in \u001b[0;36m__iter__\u001b[1;34m(self)\u001b[0m\n\u001b[0;32m    154\u001b[0m                     \u001b[1;32melse\u001b[0m\u001b[1;33m:\u001b[0m\u001b[1;33m\u001b[0m\u001b[1;33m\u001b[0m\u001b[0m\n\u001b[0;32m    155\u001b[0m                         \u001b[0mminibatch\u001b[0m\u001b[1;33m.\u001b[0m\u001b[0msort\u001b[0m\u001b[1;33m(\u001b[0m\u001b[0mkey\u001b[0m\u001b[1;33m=\u001b[0m\u001b[0mself\u001b[0m\u001b[1;33m.\u001b[0m\u001b[0msort_key\u001b[0m\u001b[1;33m,\u001b[0m \u001b[0mreverse\u001b[0m\u001b[1;33m=\u001b[0m\u001b[1;32mTrue\u001b[0m\u001b[1;33m)\u001b[0m\u001b[1;33m\u001b[0m\u001b[1;33m\u001b[0m\u001b[0m\n\u001b[1;32m--> 156\u001b[1;33m                 \u001b[1;32myield\u001b[0m \u001b[0mBatch\u001b[0m\u001b[1;33m(\u001b[0m\u001b[0mminibatch\u001b[0m\u001b[1;33m,\u001b[0m \u001b[0mself\u001b[0m\u001b[1;33m.\u001b[0m\u001b[0mdataset\u001b[0m\u001b[1;33m,\u001b[0m \u001b[0mself\u001b[0m\u001b[1;33m.\u001b[0m\u001b[0mdevice\u001b[0m\u001b[1;33m)\u001b[0m\u001b[1;33m\u001b[0m\u001b[1;33m\u001b[0m\u001b[0m\n\u001b[0m\u001b[0;32m    157\u001b[0m             \u001b[1;32mif\u001b[0m \u001b[1;32mnot\u001b[0m \u001b[0mself\u001b[0m\u001b[1;33m.\u001b[0m\u001b[0mrepeat\u001b[0m\u001b[1;33m:\u001b[0m\u001b[1;33m\u001b[0m\u001b[1;33m\u001b[0m\u001b[0m\n\u001b[0;32m    158\u001b[0m                 \u001b[1;32mreturn\u001b[0m\u001b[1;33m\u001b[0m\u001b[1;33m\u001b[0m\u001b[0m\n",
      "\u001b[1;32m~\\Anaconda3\\envs\\sataml\\lib\\site-packages\\torchtext\\data\\batch.py\u001b[0m in \u001b[0;36m__init__\u001b[1;34m(self, data, dataset, device)\u001b[0m\n\u001b[0;32m     23\u001b[0m             \u001b[0mself\u001b[0m\u001b[1;33m.\u001b[0m\u001b[0mbatch_size\u001b[0m \u001b[1;33m=\u001b[0m \u001b[0mlen\u001b[0m\u001b[1;33m(\u001b[0m\u001b[0mdata\u001b[0m\u001b[1;33m)\u001b[0m\u001b[1;33m\u001b[0m\u001b[1;33m\u001b[0m\u001b[0m\n\u001b[0;32m     24\u001b[0m             \u001b[0mself\u001b[0m\u001b[1;33m.\u001b[0m\u001b[0mdataset\u001b[0m \u001b[1;33m=\u001b[0m \u001b[0mdataset\u001b[0m\u001b[1;33m\u001b[0m\u001b[1;33m\u001b[0m\u001b[0m\n\u001b[1;32m---> 25\u001b[1;33m             \u001b[0mself\u001b[0m\u001b[1;33m.\u001b[0m\u001b[0mfields\u001b[0m \u001b[1;33m=\u001b[0m \u001b[0mdataset\u001b[0m\u001b[1;33m.\u001b[0m\u001b[0mfields\u001b[0m\u001b[1;33m.\u001b[0m\u001b[0mkeys\u001b[0m\u001b[1;33m(\u001b[0m\u001b[1;33m)\u001b[0m  \u001b[1;31m# copy field names\u001b[0m\u001b[1;33m\u001b[0m\u001b[1;33m\u001b[0m\u001b[0m\n\u001b[0m\u001b[0;32m     26\u001b[0m             self.input_fields = [k for k, v in dataset.fields.items() if\n\u001b[0;32m     27\u001b[0m                                  v is not None and not v.is_target]\n",
      "\u001b[1;31mAttributeError\u001b[0m: 'Text_Dataset' object has no attribute 'fields'"
     ]
    }
   ],
   "source": [
    "for batch_index, batch in enumerate(train_iter):\n",
    "    print(batch)\n",
    "    if batch_index > 1:\n",
    "        break"
   ]
  },
  {
   "cell_type": "code",
   "execution_count": 19,
   "metadata": {
    "tags": []
   },
   "outputs": [
    {
     "output_type": "stream",
     "name": "stdout",
     "text": "ERROR: do not need END (0) token [18 19  1  2  3 26 17  1 14 25  8 28 52 10  0]\nERROR: do not need END (0) token [ 18 155   2  13   1  24  33  19  14   8 106   8  13  26 102   0]\nERROR: do not need END (0) token [18  2 19 14  8 16 36 37  3  1 52 10  8 14 81 82  0]\nERROR: do not need END (0) token [ 18 378   2  13   1  85  24   8  23   3   1 433  63   8 211  21  22   0]\nERROR: do not need END (0) token [  1   2   3   1  26  25   3  14  87   8   1 265  22   0]\nERROR: do not need END (0) token [ 50   2   3  14  25  76  23   8  24   8 239   1  14   3  16  26   8 106\n   6  96   0]\nERROR: do not need END (0) token [ 11   2  13   1 211  50  73   1 230  65 433  24   8   1  66  85  25   0]\nERROR: do not need END (0) token [ 18   2  13   1 230 265  63   1 162  23   8  24   8 795  26   8  14  17\n   0]\nERROR: do not need END (0) token [18 19  1  2  3  1 14 24 26 27  8  1 14 25  0]\nERROR: do not need END (0) token [ 18   2  19 433   3  14   8  13   1   4 211  10   0]\nERROR: do not need END (0) token [  18  155    2   13    1    5   50    8  433  119    8  107 1552    0]\nERROR: do not need END (0) token [18  2 13 17 33 34 16  8 13  1 14 24  0]\nERROR: do not need END (0) token [   1  250  640    2 1613    1  230  265   15   26    6   69    8    1\n   26   81  137    0]\nERROR: do not need END (0) token [18  2 19 14  3 26  8 13  1  5 21 10  0]\nERROR: do not need END (0) token [18  2 19 14  3 39  8 13  1  5 21 10  0]\nERROR: do not need END (0) token [  18   19    1  287   26    2    3    1  265  629   63   14  478   33\n 1258  193   11   77  204   56   11  127    0]\nERROR: do not need END (0) token [18 19  1 65  2  3 39 17  8  1 21 10  0]\nERROR: do not need END (0) token [18  2 13 17 33 34 39  8 13  1 14 24  0]\nERROR: do not need END (0) token [ 18   2  13  26  87  47 139   8  14  69  86  62  24 164  67  50  69  86\n  62  27   0]\nERROR: do not need END (0) token [18  2 13 17 33 34 26  8 13  1 65 24  0]\nERROR: do not need END (0) token [ 18   2  13   1 795  63   1 795   6   8   1 221  23   0]\nERROR: do not need END (0) token [ 11   2  13   1 864  25   3   1   5  10  14  24   8  26  69   0]\nERROR: do not need END (0) token [18 19  1 67 16  2  3  1 14 24  8  5 47 10  0]\nERROR: do not need END (0) token [ 18   2  19 475  92  26   3   1  14 204  86  62 166   0]\nERROR: do not need END (0) token [ 18  14   2  13 333  69   8   1 250  26  10   0]\nERROR: do not need END (0) token [ 11  16 522   2  13   1 935 353  10 122   3  26   0]\nERROR: do not need END (0) token [ 18   2  13   1  16  91   8 169  25  19 759 325 169  15   0]\nERROR: do not need END (0) token [ 18  20  14   2  13  85  17   8 174  79  26   8  85  86  62  73  69   0]\nERROR: do not need END (0) token [ 18   2  13   1  14 478 400  62  81   8   1  55  16  10   0]\nERROR: do not need END (0) token [  18   19    1  250   16    2    3    1   55   16   63   65   10   39\n   24    8    1 1017   79  428    8   31   16   69   86   53   54   27\n    8   17    0]\nERROR: do not need END (0) token [ 18   2  19 596  14   3  52  48   8  22   8   1  26  63   0]\nERROR: do not need END (0) token [ 18 155   2  13   1  24  33  19  26   8  13   1  26  22   0]\n"
    },
    {
     "output_type": "execute_result",
     "data": {
      "text/plain": "[tensor([[  18,   19,    1,    2,    3,   26,   17,    1,   14,   25,    8,   28,\n            52,   10,    0],\n         [  18,  155,    2,   13,    1,   24,   33,   19,   14,    8,  106,    8,\n            13,   26,  102],\n         [  18,    2,   19,   14,    8,   16,   36,   37,    3,    1,   52,   10,\n             8,   14,   81],\n         [  18,  378,    2,   13,    1,   85,   24,    8,   23,    3,    1,  433,\n            63,    8,  211],\n         [   1,    2,    3,    1,   26,   25,    3,   14,   87,    8,    1,  265,\n            22,    0,    0],\n         [  50,    2,    3,   14,   25,   76,   23,    8,   24,    8,  239,    1,\n            14,    3,   16],\n         [  11,    2,   13,    1,  211,   50,   73,    1,  230,   65,  433,   24,\n             8,    1,   66],\n         [  18,    2,   13,    1,  230,  265,   63,    1,  162,   23,    8,   24,\n             8,  795,   26],\n         [  18,   19,    1,    2,    3,    1,   14,   24,   26,   27,    8,    1,\n            14,   25,    0],\n         [  18,    2,   19,  433,    3,   14,    8,   13,    1,    4,  211,   10,\n             0,    0,    0],\n         [  18,  155,    2,   13,    1,    5,   50,    8,  433,  119,    8,  107,\n          1552,    0,    0],\n         [  18,    2,   13,   17,   33,   34,   16,    8,   13,    1,   14,   24,\n             0,    0,    0],\n         [   1,  250,  640,    2, 1613,    1,  230,  265,   15,   26,    6,   69,\n             8,    1,   26],\n         [  18,    2,   19,   14,    3,   26,    8,   13,    1,    5,   21,   10,\n             0,    0,    0],\n         [  18,    2,   19,   14,    3,   39,    8,   13,    1,    5,   21,   10,\n             0,    0,    0],\n         [  18,   19,    1,  287,   26,    2,    3,    1,  265,  629,   63,   14,\n           478,   33, 1258],\n         [  18,   19,    1,   65,    2,    3,   39,   17,    8,    1,   21,   10,\n             0,    0,    0],\n         [  18,    2,   13,   17,   33,   34,   39,    8,   13,    1,   14,   24,\n             0,    0,    0],\n         [  18,    2,   13,   26,   87,   47,  139,    8,   14,   69,   86,   62,\n            24,  164,   67],\n         [  18,    2,   13,   17,   33,   34,   26,    8,   13,    1,   65,   24,\n             0,    0,    0],\n         [  18,    2,   13,    1,  795,   63,    1,  795,    6,    8,    1,  221,\n            23,    0,    0],\n         [  11,    2,   13,    1,  864,   25,    3,    1,    5,   10,   14,   24,\n             8,   26,   69],\n         [  18,   19,    1,   67,   16,    2,    3,    1,   14,   24,    8,    5,\n            47,   10,    0],\n         [  18,    2,   19,  475,   92,   26,    3,    1,   14,  204,   86,   62,\n           166,    0,    0],\n         [  18,   14,    2,   13,  333,   69,    8,    1,  250,   26,   10,    0,\n             0,    0,    0],\n         [  11,   16,  522,    2,   13,    1,  935,  353,   10,  122,    3,   26,\n             0,    0,    0],\n         [  18,    2,   13,    1,   16,   91,    8,  169,   25,   19,  759,  325,\n           169,   15,    0],\n         [  18,   20,   14,    2,   13,   85,   17,    8,  174,   79,   26,    8,\n            85,   86,   62],\n         [  18,    2,   13,    1,   14,  478,  400,   62,   81,    8,    1,   55,\n            16,   10,    0],\n         [  18,   19,    1,  250,   16,    2,    3,    1,   55,   16,   63,   65,\n            10,   39,   24],\n         [  18,    2,   19,  596,   14,    3,   52,   48,    8,   22,    8,    1,\n            26,   63,    0],\n         [  18,  155,    2,   13,    1,   24,   33,   19,   26,    8,   13,    1,\n            26,   22,    0]]),\n tensor([15, 15, 15, 15, 14, 15, 15, 15, 15, 13, 14, 13, 15, 13, 13, 15, 13, 13,\n         15, 13, 14, 15, 15, 14, 12, 13, 15, 15, 15, 15, 15, 15])]"
     },
     "metadata": {},
     "execution_count": 19
    }
   ],
   "source": [
    "iter(hr_dataloader).next()"
   ]
  },
  {
   "cell_type": "code",
   "execution_count": null,
   "metadata": {},
   "outputs": [],
   "source": []
  },
  {
   "cell_type": "code",
   "execution_count": null,
   "metadata": {},
   "outputs": [],
   "source": [
    "# class Text_Dataset(data.Dataset):\n",
    "#     def __init__(self, data_dir, split, device,\n",
    "#                  words_num, transform=None, print_shape=False):\n",
    "\n",
    "#         self.words_num = words_num\n",
    "#         self.data_dir = data_dir\n",
    "#         self.split = split\n",
    "#         self.embeddings_num = captions_per_image\n",
    "#         self.device = device\n",
    "\n",
    "#         self.captions, self.idx2word, self.word2idx, self.n_word = \\\n",
    "#             self.load_text_data(data_dir, split)\n",
    "\n",
    "#     def load_text_data(self, data_dir, split):\n",
    "#         filepath = os.path.join(data_dir, 'captions.pickle')\n",
    "\n",
    "#         if not os.path.isfile(filepath):\n",
    "#             captions = self.load_captions(data_dir)\n",
    "\n",
    "#             captions, idx2word, word2idx, n_words = \\\n",
    "#                 self.build_dictionary(captions)\n",
    "#             with open(filepath, 'wb') as f:\n",
    "#                 pickle.dump([captions, idx2word, word2idx], f, protocol=2)\n",
    "#                 if self.print_shape==True:\n",
    "#                     print('Save to: ', filepath)\n",
    "\n",
    "#         else:\n",
    "#             with open(filepath, 'rb') as f:\n",
    "#                 x = pickle.load(f)\n",
    "#                 captions, idx2word, word2idx = x[0], x[1], x[2]\n",
    "#                 del x\n",
    "#                 n_words = len(idx2word)\n",
    "#                 if self.print_shape == True:\n",
    "#                     print('Load from: ', filepath)\n",
    "\n",
    "#         return captions, idx2word, word2idx, n_words\n",
    "\n",
    "#     def build_dictionary(self, captions):\n",
    "#         word_counts = defaultdict(float)\n",
    "#         for sent in captions:\n",
    "#             for word in sent:\n",
    "#                 word_counts[word] += 1\n",
    "\n",
    "#         vocab = [w for w in word_counts if word_counts[w] >= 0]\n",
    "\n",
    "#         idx2word = {}\n",
    "#         idx2word[0] = '<end>'\n",
    "#         word2idx = {}\n",
    "#         word2idx['<end>'] = 0\n",
    "#         ix = 1\n",
    "#         for w in vocab:\n",
    "#             word2idx[w] = ix\n",
    "#             idx2word[ix] = w\n",
    "#             ix += 1\n",
    "\n",
    "#         captions_new = []\n",
    "#         for t in captions:\n",
    "#             rev = []\n",
    "#             for w in t:\n",
    "#                 if w in word2idx:\n",
    "#                     rev.append(word2idx[w])\n",
    "#             rev.append(0)\n",
    "#             captions_new.append(rev)\n",
    "\n",
    "#         return captions_new, idx2word, word2idx, len(idx2word)\n",
    "\n",
    "\n",
    "#     def load_captions(self, data_dir):\n",
    "#         text_list = glob.glob(os.path.join(data_dir, '*/*.txt'))\n",
    "#         all_captions = []\n",
    "#         for cap_path in tqdm.tqdm(text_list):\n",
    "#             # cap_path = '%s/text/%s.txt' % (data_dir, filenames[i])\n",
    "#             with open(cap_path, \"r\") as f:\n",
    "#                 captions = f.read().decode('utf8').split('\\n')\n",
    "#                 cnt = 0\n",
    "#                 for cap in captions:\n",
    "#                     if len(cap) == 0:\n",
    "#                         continue\n",
    "#                     cap = cap.replace(\"\\ufffd\\ufffd\", \" \")\n",
    "#                     # picks out sequences of alphanumeric characters as tokens\n",
    "#                     # and drops everything else\n",
    "#                     tokenizer = RegexpTokenizer(r'\\w+')\n",
    "#                     tokens = tokenizer.tokenize(cap.lower())\n",
    "#                     # print('tokens', tokens)\n",
    "#                     if len(tokens) == 0:\n",
    "#                         if self.print_shape == True:\n",
    "#                             print('cap', cap)\n",
    "#                         continue\n",
    "\n",
    "#                     tokens_new = []\n",
    "#                     for t in tokens:\n",
    "#                         t = t.encode('ascii', 'ignore').decode('ascii')\n",
    "#                         if len(t) > 0:\n",
    "#                             tokens_new.append(t)\n",
    "#                     all_captions.append(tokens_new)\n",
    "#                     cnt += 1\n",
    "#                     if cnt == self.embeddings_num:\n",
    "#                         break\n",
    "#                 if cnt < self.embeddings_num:\n",
    "#                     print('ERROR: the captions for %s less than %d'\n",
    "#                           % (filenames[i], cnt))\n",
    "#         return all_captions\n",
    "\n",
    "#     def get_caption(self, sent_idx):\n",
    "#         sent_caption = np.asarray(self.captions[sent_idx]).astype('int64')\n",
    "\n",
    "#         if (sent_caption == 0).sum() > 0:\n",
    "#             print('ERROR: do not need END (0) token', sent_caption)\n",
    "\n",
    "#         num_words = len(sent_caption)\n",
    "#         # pad with 0s (i.e., '<end>')\n",
    "#         x = np.zeros((self.words_num), dtype='int64')\n",
    "#         # x = np.zeros((self.words_num, 1), dtype='int64')\n",
    "\n",
    "#         x_len = num_words\n",
    "#         if num_words <= self.words_num:\n",
    "#             x[:num_words] = sent_caption\n",
    "#         else:\n",
    "#             ix = list(np.arange(num_words))  # 1, 2, 3,..., maxNum\n",
    "#             np.random.shuffle(ix)\n",
    "#             ix = ix[:self.words_num]\n",
    "#             ix = np.sort(ix)\n",
    "#             x[:] = sent_caption[ix]\n",
    "#             x_len = self.words_num\n",
    "#         return x, x_len\n",
    "\n",
    "#     def __len__(self):\n",
    "#         return len(self.filenames)\n",
    "\n",
    "#     def __getitem__(self, idx):\n",
    "\n",
    "#         while True:\n",
    "#             wrong_idx = random.randint(0, self.__len__())\n",
    "#             if idx != wrong_idx:\n",
    "#                 break\n",
    "\n",
    "#         data_dir = self.data_dir\n",
    "\n",
    "#         sent_ix = random.randint(0, self.embeddings_num)\n",
    "#         new_sent_ix = idx * self.embeddings_num + sent_ix\n",
    "#         caps, cap_len = self.get_caption(new_sent_ix)\n",
    "\n",
    "#         return caps, cap_len"
   ]
  }
 ]
}